{
 "cells": [
  {
   "cell_type": "code",
   "execution_count": 69,
   "metadata": {
    "collapsed": true
   },
   "outputs": [],
   "source": [
    "import jieba.posseg as pseg\n",
    "import torch\n",
    "from torch.utils import data\n",
    "import numpy as np\n",
    "\n",
    "wordslist=['a','ad','an','c','d','f','i','m','n','nr','ns','nt','o','p','q','r','tg','t','u','v','vd','vn','w','x','y','z']\n",
    "\n",
    "dim = len(wordslist)"
   ]
  },
  {
   "cell_type": "code",
   "execution_count": 70,
   "outputs": [],
   "source": [
    "def TextToVector(sentences):\n",
    "    length = len(sentences)\n",
    "    X = torch.zeros((length,dim),dtype=torch.float)\n",
    "\n",
    "    cnt = 0\n",
    "    for sentence in sentences:\n",
    "        words = pseg.cut(sentence)\n",
    "        for word, pos in words:\n",
    "            if pos in wordslist:\n",
    "                X[cnt][wordslist.index(pos)] += 1\n",
    "\n",
    "        cnt += 1\n",
    "\n",
    "    return X\n"
   ],
   "metadata": {
    "collapsed": false
   }
  },
  {
   "cell_type": "code",
   "execution_count": 71,
   "outputs": [],
   "source": [
    "import pandas as pd\n",
    "df = pd.read_excel('年龄较大孩子答案.xlsx')\n",
    "text_data = df['案件描述']  # 使用列标签\n",
    "score_data = df['可信度得分']\n",
    "\n",
    "features = TextToVector(text_data)\n",
    "labels = torch.tensor(score_data,dtype=torch.float)\n",
    "# print(features.shape)\n",
    "# print(labels.shape)\n",
    "# print(features[0])\n",
    "# print(labels[0])"
   ],
   "metadata": {
    "collapsed": false
   }
  },
  {
   "cell_type": "code",
   "execution_count": 72,
   "outputs": [],
   "source": [
    "def load_array(data_arrays, batch_size, is_train=False):\n",
    "    \"\"\"构造⼀个PyTorch数据迭代器\"\"\"\n",
    "    dataset = data.TensorDataset(*data_arrays)\n",
    "    return data.DataLoader(dataset, batch_size, shuffle=is_train)"
   ],
   "metadata": {
    "collapsed": false
   }
  },
  {
   "cell_type": "code",
   "execution_count": 73,
   "outputs": [],
   "source": [
    "batch_size = 5\n",
    "data_iter = load_array((features, labels), batch_size)"
   ],
   "metadata": {
    "collapsed": false
   }
  },
  {
   "cell_type": "code",
   "execution_count": 74,
   "outputs": [],
   "source": [
    "from torch import nn\n",
    "netA = nn.Sequential(nn.Linear(dim, 1))\n",
    "lossA = nn.MSELoss()\n",
    "trainerA = torch.optim.SGD(netA.parameters(), lr=0.03)"
   ],
   "metadata": {
    "collapsed": false
   }
  },
  {
   "cell_type": "code",
   "execution_count": 75,
   "outputs": [
    {
     "name": "stdout",
     "output_type": "stream",
     "text": [
      "epoch 1, loss nan\n",
      "epoch 2, loss nan\n",
      "epoch 3, loss nan\n"
     ]
    },
    {
     "name": "stderr",
     "output_type": "stream",
     "text": [
      "D:\\lib\\Anaconda3\\envs\\pytorch\\lib\\site-packages\\torch\\nn\\modules\\loss.py:536: UserWarning: Using a target size (torch.Size([5])) that is different to the input size (torch.Size([5, 1])). This will likely lead to incorrect results due to broadcasting. Please ensure they have the same size.\n",
      "  return F.mse_loss(input, target, reduction=self.reduction)\n",
      "D:\\lib\\Anaconda3\\envs\\pytorch\\lib\\site-packages\\torch\\nn\\modules\\loss.py:536: UserWarning: Using a target size (torch.Size([2])) that is different to the input size (torch.Size([2, 1])). This will likely lead to incorrect results due to broadcasting. Please ensure they have the same size.\n",
      "  return F.mse_loss(input, target, reduction=self.reduction)\n",
      "D:\\lib\\Anaconda3\\envs\\pytorch\\lib\\site-packages\\torch\\nn\\modules\\loss.py:536: UserWarning: Using a target size (torch.Size([112])) that is different to the input size (torch.Size([112, 1])). This will likely lead to incorrect results due to broadcasting. Please ensure they have the same size.\n",
      "  return F.mse_loss(input, target, reduction=self.reduction)\n"
     ]
    }
   ],
   "source": [
    "sum_epochs = 3\n",
    "for epoch in range(sum_epochs):\n",
    "    for X, y in data_iter:\n",
    "        l = lossA(netA(X) ,y)\n",
    "        trainerA.zero_grad()\n",
    "        l.backward()\n",
    "        trainerA.step()\n",
    "    l = lossA(netA(features), labels)\n",
    "    print(f'epoch {epoch + 1}, loss {l:f}')"
   ],
   "metadata": {
    "collapsed": false
   }
  },
  {
   "cell_type": "markdown",
   "source": [
    "\n",
    "下面开始构建B模型"
   ],
   "metadata": {
    "collapsed": false
   }
  },
  {
   "cell_type": "code",
   "execution_count": 68,
   "outputs": [],
   "source": [
    "import jieba.analyse\n",
    "TopkeyCnt = 10"
   ],
   "metadata": {
    "collapsed": false
   }
  },
  {
   "cell_type": "code",
   "execution_count": 67,
   "outputs": [],
   "source": [
    "dfkey = pd.read_excel('关键词库.xlsx')\n",
    "typecnt = 6\n",
    "keywordlist = []\n",
    "keywordlist.append(dfkey['家庭保护'])\n",
    "keywordlist.append(dfkey['学校保护'])\n",
    "keywordlist.append(dfkey['社会保护'])\n",
    "keywordlist.append(dfkey['网络保护'])\n",
    "keywordlist.append(dfkey['政府保护'])\n",
    "keywordlist.append(dfkey['司法保护'])"
   ],
   "metadata": {
    "collapsed": false,
    "pycharm": {
     "name": "#%%k\n"
    }
   }
  },
  {
   "cell_type": "code",
   "execution_count": null,
   "outputs": [],
   "source": [
    "def TextToKeyVector(sentences):\n",
    "    length = len(sentences)\n",
    "    X = torch.zeros((length,typecnt),dtype=torch.float)\n",
    "\n",
    "    cnt = 0\n",
    "    for sentence in sentences:\n",
    "        for word, _ in jieba.analyse.extract_tags(sentence, topK=TopkeyCnt):\n",
    "            for i in range(typecnt):\n",
    "                if word in keywordlist[i]:\n",
    "                    X[cnt][i] += 1\n",
    "        cnt += 1\n",
    "    return X"
   ],
   "metadata": {
    "collapsed": false
   }
  },
  {
   "cell_type": "code",
   "execution_count": null,
   "outputs": [],
   "source": [
    "featureskey = TextToKeyVector(text_data)\n",
    "labels = torch.tensor(score_data,dtype=torch.float)\n",
    "data_iter_key = load_array((featureskey, labels), batch_size)"
   ],
   "metadata": {
    "collapsed": false
   }
  },
  {
   "cell_type": "code",
   "execution_count": 76,
   "outputs": [],
   "source": [
    "netB = nn.Sequential(nn.Linear(typecnt, 1))\n",
    "lossB = nn.MSELoss()\n",
    "trainerB = torch.optim.SGD(netB.parameters(), lr=0.03)"
   ],
   "metadata": {
    "collapsed": false
   }
  },
  {
   "cell_type": "code",
   "execution_count": null,
   "outputs": [],
   "source": [
    "sum_epochs_key = 3\n",
    "for epoch in range(sum_epochs_key):\n",
    "    for X, y in data_iter_key:\n",
    "        l = lossB(netB(X) ,y)\n",
    "        trainerB.zero_grad()\n",
    "        l.backward()\n",
    "        trainerB.step()\n",
    "    l = lossB(netB(features), labels)\n",
    "    print(f'epoch {epoch + 1}, loss {l:f}')"
   ],
   "metadata": {
    "collapsed": false
   }
  }
 ],
 "metadata": {
  "kernelspec": {
   "display_name": "Python 3",
   "language": "python",
   "name": "python3"
  },
  "language_info": {
   "codemirror_mode": {
    "name": "ipython",
    "version": 2
   },
   "file_extension": ".py",
   "mimetype": "text/x-python",
   "name": "python",
   "nbconvert_exporter": "python",
   "pygments_lexer": "ipython2",
   "version": "2.7.6"
  }
 },
 "nbformat": 4,
 "nbformat_minor": 0
}
