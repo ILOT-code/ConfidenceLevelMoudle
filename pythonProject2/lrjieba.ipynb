{
 "cells": [
  {
   "cell_type": "code",
   "execution_count": null,
   "metadata": {
    "collapsed": true
   },
   "outputs": [],
   "source": [
    "import jieba.posseg as pseg\n",
    "import torch\n",
    "from torch.utils import data\n",
    "import numpy as np\n",
    "\n",
    "wordslist=['a','ad','an','c','d','f','i','m','n','nr','ns','nt','o','p','q','r','tg','t','u','v','vd','vn','w','x','y','z']\n",
    "dim = len(wordslist)"
   ]
  },
  {
   "cell_type": "code",
   "execution_count": null,
   "outputs": [],
   "source": [
    "def LrTest(net,loss,features,labels):\n",
    "    return loss(net(features),labels)"
   ],
   "metadata": {
    "collapsed": false
   }
  },
  {
   "cell_type": "code",
   "execution_count": null,
   "outputs": [],
   "source": [
    "def TextToVector(sentences):\n",
    "    length = len(sentences)\n",
    "    X = torch.zeros((length,dim),dtype=torch.float)\n",
    "\n",
    "    cnt = 0\n",
    "    for sentence in sentences:\n",
    "        words = pseg.cut(sentence)\n",
    "        for word, pos in words:\n",
    "            if pos in wordslist:\n",
    "                X[cnt][wordslist.index(pos)] += 1\n",
    "\n",
    "        cnt += 1\n",
    "\n",
    "    return X\n"
   ],
   "metadata": {
    "collapsed": false
   }
  },
  {
   "cell_type": "code",
   "execution_count": null,
   "outputs": [],
   "source": [
    "def load_array(data_arrays, batch_size, is_train=False):\n",
    "    # 构造⼀个PyTorch数据迭代器\n",
    "    dataset = data.TensorDataset(*data_arrays)\n",
    "    return data.DataLoader(dataset, batch_size, shuffle=is_train)"
   ],
   "metadata": {
    "collapsed": false
   }
  },
  {
   "cell_type": "code",
   "execution_count": null,
   "outputs": [],
   "source": [
    "import pandas as pd\n",
    "df = pd.read_excel('年龄较大孩子答案.xlsx')\n",
    "text_data = df['案件描述']  # 使用列标签\n",
    "score_data = df['可信度得分']\n",
    "\n",
    "featuresA = TextToVector(text_data)\n",
    "labelsA = torch.tensor(score_data,dtype=torch.float)\n"
   ],
   "metadata": {
    "collapsed": false
   }
  },
  {
   "cell_type": "code",
   "execution_count": null,
   "outputs": [],
   "source": [
    "batch_size = 5\n",
    "data_iterA = load_array((featuresA, labelsA), batch_size)"
   ],
   "metadata": {
    "collapsed": false
   }
  },
  {
   "cell_type": "code",
   "execution_count": null,
   "outputs": [],
   "source": [
    "from torch import nn\n",
    "netA = nn.Sequential(nn.Linear(dim, 1))\n",
    "lossA = nn.MSELoss()\n",
    "trainerA = torch.optim.SGD(netA.parameters(), lr=0.03)"
   ],
   "metadata": {
    "collapsed": false
   }
  },
  {
   "cell_type": "code",
   "execution_count": null,
   "outputs": [],
   "source": [
    "sum_epochs = 3\n",
    "for epoch in range(sum_epochs):\n",
    "    for X, y in data_iterA:\n",
    "        l = lossA(netA(X) ,y)\n",
    "        trainerA.zero_grad()\n",
    "        l.backward()\n",
    "        trainerA.step()\n",
    "    l = lossA(netA(featuresA), labelsA)\n",
    "    print(f'epoch {epoch + 1}, loss {l:f}')"
   ],
   "metadata": {
    "collapsed": false
   }
  },
  {
   "cell_type": "code",
   "execution_count": null,
   "outputs": [],
   "source": [
    "print(LrTest(netA,lossA,featuresA,labelsA))"
   ],
   "metadata": {
    "collapsed": false
   }
  },
  {
   "cell_type": "markdown",
   "source": [
    "\n",
    "下面开始构建B模型"
   ],
   "metadata": {
    "collapsed": false
   }
  },
  {
   "cell_type": "code",
   "execution_count": null,
   "outputs": [],
   "source": [
    "import jieba.analyse\n",
    "TopkeyCnt = 10"
   ],
   "metadata": {
    "collapsed": false
   }
  },
  {
   "cell_type": "code",
   "execution_count": null,
   "outputs": [],
   "source": [
    "typecnt = 6\n",
    "dfkey = pd.read_excel('关键词库.xlsx')\n",
    "keywordlist = []\n",
    "for i in range(typecnt):\n",
    "    x = dfkey.iloc[:, i].tolist()\n",
    "    keywordlist.append({key: None for key in x})"
   ],
   "metadata": {
    "collapsed": false,
    "pycharm": {
     "name": "#%%k\n"
    }
   }
  },
  {
   "cell_type": "code",
   "execution_count": null,
   "outputs": [],
   "source": [
    "def TextToKeyVector(sentences):\n",
    "    length = len(sentences)\n",
    "    X = torch.zeros((length,typecnt),dtype=torch.float)\n",
    "\n",
    "    cnt = 0\n",
    "    for sentence in sentences:\n",
    "        for word in jieba.analyse.extract_tags(sentence, topK=TopkeyCnt):\n",
    "            for i in range(typecnt):\n",
    "                if word in keywordlist[i]:\n",
    "                    X[cnt][i] += 1\n",
    "        cnt += 1\n",
    "    return X"
   ],
   "metadata": {
    "collapsed": false
   }
  },
  {
   "cell_type": "code",
   "execution_count": null,
   "outputs": [],
   "source": [
    "featuresB = TextToKeyVector(text_data)\n",
    "labelsB = torch.tensor(score_data,dtype=torch.float)\n",
    "data_iterB = load_array((featuresB, labelsB), batch_size)"
   ],
   "metadata": {
    "collapsed": false
   }
  },
  {
   "cell_type": "code",
   "execution_count": null,
   "outputs": [],
   "source": [
    "netB = nn.Sequential(nn.Linear(typecnt, 1))\n",
    "lossB = nn.MSELoss()\n",
    "trainerB = torch.optim.SGD(netB.parameters(), lr=0.03)"
   ],
   "metadata": {
    "collapsed": false
   }
  },
  {
   "cell_type": "code",
   "execution_count": null,
   "outputs": [],
   "source": [
    "sum_epochs_key = 3\n",
    "for epoch in range(sum_epochs_key):\n",
    "    for X, y in data_iterB:\n",
    "        l = lossB(netB(X) ,y)\n",
    "        trainerB.zero_grad()\n",
    "        l.backward()\n",
    "        trainerB.step()\n",
    "    l = lossB(netB(featuresB), labelsB)\n",
    "    print(f'epoch {epoch + 1}, loss {l:f}')"
   ],
   "metadata": {
    "collapsed": false
   }
  },
  {
   "cell_type": "code",
   "execution_count": null,
   "outputs": [],
   "source": [
    "print(LrTest(netB,lossB,featuresB,labelsB))"
   ],
   "metadata": {
    "collapsed": false
   }
  },
  {
   "cell_type": "code",
   "execution_count": null,
   "outputs": [],
   "source": [
    "weight_key = 0.6\n",
    "def GetScore(featuresA,featuresB):\n",
    "    return netA(featuresA) * (1-weight_key) + netB(featuresB) * weight_key"
   ],
   "metadata": {
    "collapsed": false
   }
  }
 ],
 "metadata": {
  "kernelspec": {
   "display_name": "Python 3",
   "language": "python",
   "name": "python3"
  },
  "language_info": {
   "codemirror_mode": {
    "name": "ipython",
    "version": 2
   },
   "file_extension": ".py",
   "mimetype": "text/x-python",
   "name": "python",
   "nbconvert_exporter": "python",
   "pygments_lexer": "ipython2",
   "version": "2.7.6"
  }
 },
 "nbformat": 4,
 "nbformat_minor": 0
}
