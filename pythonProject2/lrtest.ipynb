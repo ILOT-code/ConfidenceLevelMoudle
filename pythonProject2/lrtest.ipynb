{
 "cells": [
  {
   "cell_type": "code",
   "execution_count": 1,
   "metadata": {
    "collapsed": true
   },
   "outputs": [
    {
     "name": "stderr",
     "output_type": "stream",
     "text": [
      "Building prefix dict from the default dictionary ...\n",
      "Loading model from cache C:\\Users\\ILOT\\AppData\\Local\\Temp\\jieba.cache\n",
      "Loading model cost 0.632 seconds.\n",
      "Prefix dict has been built successfully.\n"
     ]
    },
    {
     "name": "stdout",
     "output_type": "stream",
     "text": [
      "[ 0.  0.  0.  1.  0.  0.  0. 17. 14.  1.  2.  0.  0.  2.  0.  7.  0.  0.\n",
      "  0.  5.  0.  0.  0.  7.  0.  0.]\n"
     ]
    }
   ],
   "source": [
    "import jieba.posseg as pseg\n",
    "import numpy as np\n",
    "\n",
    "sentence = \"2023年2月192023年2月19日20时30分左右，甘井子区樱花北园小区，其孩子孙泽宇（12周岁）在该小区广场溜达，有个男的和他儿子搭话，把其儿子带到该小区10号楼单元门包门里，摸其儿子\"\n",
    "words = pseg.cut(sentence)\n",
    "\n",
    "\n",
    "wordslist=['a','ad','an','c','d','f','i','m','n','nr','ns','nt','o','p','q','r','tg','t','u','v','vd','vn','w','x','y','z']\n",
    "\n",
    "dim = len(wordslist)\n",
    "\n",
    "X = np.zeros(dim)\n",
    "\n",
    "for word, pos in words:\n",
    "    if pos in wordslist:\n",
    "        index = wordslist.index(pos)\n",
    "        X[index] += 1\n",
    "\n",
    "print(X)"
   ]
  },
  {
   "cell_type": "code",
   "execution_count": null,
   "outputs": [],
   "source": [],
   "metadata": {
    "collapsed": false
   }
  }
 ],
 "metadata": {
  "kernelspec": {
   "display_name": "Python 3",
   "language": "python",
   "name": "python3"
  },
  "language_info": {
   "codemirror_mode": {
    "name": "ipython",
    "version": 2
   },
   "file_extension": ".py",
   "mimetype": "text/x-python",
   "name": "python",
   "nbconvert_exporter": "python",
   "pygments_lexer": "ipython2",
   "version": "2.7.6"
  }
 },
 "nbformat": 4,
 "nbformat_minor": 0
}
